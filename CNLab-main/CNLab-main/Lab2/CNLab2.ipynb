{
  "nbformat": 4,
  "nbformat_minor": 0,
  "metadata": {
    "colab": {
      "provenance": []
    },
    "kernelspec": {
      "name": "python3",
      "display_name": "Python 3"
    },
    "language_info": {
      "name": "python"
    }
  },
  "cells": [
    {
      "cell_type": "code",
      "execution_count": 4,
      "metadata": {
        "colab": {
          "base_uri": "https://localhost:8080/"
        },
        "id": "hiXrIdCznn6p",
        "outputId": "7504bb1d-59e1-4860-cb42-5b012f5d2e6d"
      },
      "outputs": [
        {
          "output_type": "stream",
          "name": "stdout",
          "text": [
            "Requirement already satisfied: dnspython in /usr/local/lib/python3.12/dist-packages (2.8.0)\n"
          ]
        }
      ],
      "source": [
        "!pip install dnspython"
      ]
    },
    {
      "cell_type": "code",
      "source": [
        "import requests\n",
        "\n",
        "def http_requests():\n",
        "    try:\n",
        "        get_url = \"https://postman-echo.com/get?message=hello\"\n",
        "        r1 = requests.get(get_url)\n",
        "        print(\"GET:\", r1.status_code, r1.text[:200])\n",
        "\n",
        "        post_url = \"https://postman-echo.com/post\"\n",
        "        r2 = requests.post(post_url, data={\"msg\": \"hello\"})\n",
        "        print(\"POST:\", r2.status_code, r2.text[:200])\n",
        "    except Exception as e:\n",
        "        print(\"Error:\", e)\n",
        "\n",
        "http_requests()"
      ],
      "metadata": {
        "colab": {
          "base_uri": "https://localhost:8080/"
        },
        "id": "vuaYCUPwpJoT",
        "outputId": "77de2af8-0f91-4c66-9f42-cd594326125f"
      },
      "execution_count": 20,
      "outputs": [
        {
          "output_type": "stream",
          "name": "stdout",
          "text": [
            "GET: 200 {\n",
            "  \"args\": {\n",
            "    \"message\": \"hello\"\n",
            "  },\n",
            "  \"headers\": {\n",
            "    \"host\": \"postman-echo.com\",\n",
            "    \"x-request-start\": \"t1757408629.208\",\n",
            "    \"connection\": \"close\",\n",
            "    \"x-forwarded-proto\": \"https\",\n",
            "    \"x-f\n",
            "POST: 200 {\n",
            "  \"args\": {},\n",
            "  \"data\": \"\",\n",
            "  \"files\": {},\n",
            "  \"form\": {\n",
            "    \"msg\": \"hello\"\n",
            "  },\n",
            "  \"headers\": {\n",
            "    \"host\": \"postman-echo.com\",\n",
            "    \"x-request-start\": \"t1757408629.468\",\n",
            "    \"connection\": \"close\",\n",
            "   \n"
          ]
        }
      ]
    },
    {
      "cell_type": "code",
      "source": [
        "import smtplib\n",
        "from email.mime.text import MIMEText\n",
        "\n",
        "def send_email():\n",
        "    sender = \"felix.brown26@ethereal.email\"\n",
        "    receiver = \"harshupadhyay3001@gmail.com\"\n",
        "    username = \"felix.brown26@ethereal.email\"\n",
        "    password = \"NEGHSuf4Qwxfweahcp\"\n",
        "\n",
        "    msg = MIMEText(\"Hello Harsh, this is a test email via Mailtrap.\")\n",
        "    msg[\"Subject\"] = \"CN Lab 2 - SMTP Test\"\n",
        "    msg[\"From\"] = sender\n",
        "    msg[\"To\"] = receiver\n",
        "\n",
        "    try:\n",
        "        s = smtplib.SMTP(\"smtp.ethereal.email\", 587)\n",
        "        s.starttls()\n",
        "        s.login(username, password)\n",
        "        s.sendmail(sender, receiver, msg.as_string())\n",
        "        s.quit()\n",
        "        print(\"Email sent successfully.\")\n",
        "    except Exception as e:\n",
        "        print(\"Error:\", e)\n",
        "\n",
        "send_email()"
      ],
      "metadata": {
        "colab": {
          "base_uri": "https://localhost:8080/"
        },
        "id": "pNfPE4rXpLva",
        "outputId": "df12c249-36d0-4fa2-dba3-3a468123bda1"
      },
      "execution_count": 15,
      "outputs": [
        {
          "output_type": "stream",
          "name": "stdout",
          "text": [
            "Email sent successfully.\n"
          ]
        }
      ]
    },
    {
      "cell_type": "code",
      "source": [
        "from ftplib import FTP\n",
        "\n",
        "def ftp_ops():\n",
        "    try:\n",
        "        ftp = FTP(\"ftp.dlptest.com\")\n",
        "        ftp.login(\"dlpuser\", \"rNrKYTX9g7z3RgJRmxWuGHbeu\")\n",
        "        ftp.retrlines(\"LIST\")\n",
        "\n",
        "        with open(\"up.txt\", \"w\") as f: f.write(\"test\")\n",
        "        with open(\"up.txt\", \"rb\") as f: ftp.storbinary(\"STOR up.txt\", f)\n",
        "        print(\"Uploaded\")\n",
        "\n",
        "        with open(\"down.txt\", \"wb\") as f: ftp.retrbinary(\"RETR up.txt\", f.write)\n",
        "        print(\"Downloaded\")\n",
        "\n",
        "        ftp.quit()\n",
        "    except Exception as e:\n",
        "        print(\"Error:\", e)\n",
        "\n",
        "ftp_ops()"
      ],
      "metadata": {
        "colab": {
          "base_uri": "https://localhost:8080/"
        },
        "id": "177UMuLVptMa",
        "outputId": "1e8c2d03-77c8-4f7a-a65f-c831362e023d"
      },
      "execution_count": 17,
      "outputs": [
        {
          "output_type": "stream",
          "name": "stdout",
          "text": [
            "-rw-r--r--    1 1001     1001        13480 Sep 09 08:51 FTPUL_863342040832273_1757407849730_5.dat\n",
            "-rw-r--r--    1 1001     1001        13480 Sep 09 08:51 FTPUL_863342040832273_1757407849733_9.dat\n",
            "-rw-r--r--    1 1001     1001        13480 Sep 09 08:51 FTPUL_863342040832273_1757407849787_7.dat\n",
            "-rw-r--r--    1 1001     1001        13480 Sep 09 08:51 FTPUL_863342040832273_1757407849797_0.dat\n",
            "-rw-r--r--    1 1001     1001        13480 Sep 09 08:51 FTPUL_863342040832273_1757407849882_4.dat\n",
            "-rw-r--r--    1 1001     1001        13480 Sep 09 08:51 FTPUL_863342040832273_1757407849889_1.dat\n",
            "-rw-r--r--    1 1001     1001        14828 Sep 09 08:51 FTPUL_863342040832273_1757407849920_6.dat\n",
            "-rw-r--r--    1 1001     1001        13480 Sep 09 08:51 FTPUL_863342040832273_1757407849972_8.dat\n",
            "-rw-r--r--    1 1001     1001            0 Sep 09 08:50 FTPUL_863342040832273_1757407849973_2.dat\n",
            "-rw-r--r--    1 1001     1001        14828 Sep 09 08:51 FTPUL_863342040832273_1757407849974_3.dat\n",
            "-rw-r--r--    1 1001     1001      2271484 Sep 09 08:51 FTPUL_867380040733766_1757407863064_0.dat\n",
            "-rw-r--r--    1 1001     1001      2938744 Sep 09 08:51 FTPUL_867380040733766_1757407863064_10.dat\n",
            "-rw-r--r--    1 1001     1001      1625792 Sep 09 08:51 FTPUL_867380040733766_1757407863064_11.dat\n",
            "-rw-r--r--    1 1001     1001      2233740 Sep 09 08:51 FTPUL_867380040733766_1757407863064_12.dat\n",
            "-rw-r--r--    1 1001     1001      1255092 Sep 09 08:51 FTPUL_867380040733766_1757407863064_19.dat\n",
            "-rw-r--r--    1 1001     1001      2720368 Sep 09 08:51 FTPUL_867380040733766_1757407863064_20.dat\n",
            "-rw-r--r--    1 1001     1001      2600396 Sep 09 08:51 FTPUL_867380040733766_1757407863064_23.dat\n",
            "-rw-r--r--    1 1001     1001       471104 Sep 09 08:51 FTPUL_867380040733766_1757407863064_9.dat\n",
            "-rw-r--r--    1 1001     1001            0 Sep 09 08:51 FTPUL_867380040733766_1757407863065_13.dat\n",
            "-rw-r--r--    1 1001     1001      1352148 Sep 09 08:51 FTPUL_867380040733766_1757407863065_16.dat\n",
            "-rw-r--r--    1 1001     1001      1278008 Sep 09 08:51 FTPUL_867380040733766_1757407863065_4.dat\n",
            "-rw-r--r--    1 1001     1001      4412108 Sep 09 08:51 FTPUL_867380040733766_1757407863066_17.dat\n",
            "-rw-r--r--    1 1001     1001      1801032 Sep 09 08:51 FTPUL_867380040733766_1757407863066_18.dat\n",
            "-rw-r--r--    1 1001     1001      3073544 Sep 09 08:51 FTPUL_867380040733766_1757407863066_24.dat\n",
            "-rw-r--r--    1 1001     1001       570536 Sep 09 08:51 FTPUL_867380040733766_1757407863066_6.dat\n",
            "-rw-r--r--    1 1001     1001            0 Sep 09 08:51 FTPUL_867380040733766_1757407863066_7.dat\n",
            "-rw-r--r--    1 1001     1001      2326752 Sep 09 08:51 FTPUL_867380040733766_1757407863067_21.dat\n",
            "-rw-r--r--    1 1001     1001       155316 Sep 09 08:51 FTPUL_867380040733766_1757407863067_3.dat\n",
            "-rw-r--r--    1 1001     1001      3217780 Sep 09 08:51 FTPUL_867380040733766_1757407863068_1.dat\n",
            "-rw-r--r--    1 1001     1001            0 Sep 09 08:51 FTPUL_867380040733766_1757407863068_15.dat\n",
            "-rw-r--r--    1 1001     1001      2659708 Sep 09 08:51 FTPUL_867380040733766_1757407863068_2.dat\n",
            "-rw-r--r--    1 1001     1001      2020756 Sep 09 08:51 FTPUL_867380040733766_1757407863068_22.dat\n",
            "-rw-r--r--    1 1001     1001      1923700 Sep 09 08:51 FTPUL_867380040733766_1757407863068_5.dat\n",
            "-rw-r--r--    1 1001     1001      2190604 Sep 09 08:51 FTPUL_867380040733766_1757407863069_14.dat\n",
            "-rw-r--r--    1 1001     1001       459772 Sep 09 08:51 FTPUL_867380040733766_1757407863069_8.dat\n",
            "-rw-r--r--    1 1001     1001            0 Sep 09 08:52 FTPUL_867380040733766_1757407972803_10.dat\n",
            "-rw-r--r--    1 1001     1001        93116 Sep 09 08:52 FTPUL_867380040733766_1757407972803_14.dat\n",
            "-rw-r--r--    1 1001     1001        95812 Sep 09 08:52 FTPUL_867380040733766_1757407972803_2.dat\n",
            "-rw-r--r--    1 1001     1001            0 Sep 09 08:52 FTPUL_867380040733766_1757407972803_21.dat\n",
            "-rw-r--r--    1 1001     1001            0 Sep 09 08:52 FTPUL_867380040733766_1757407972803_23.dat\n",
            "-rw-r--r--    1 1001     1001        79636 Sep 09 08:52 FTPUL_867380040733766_1757407972803_24.dat\n",
            "-rw-r--r--    1 1001     1001        93116 Sep 09 08:52 FTPUL_867380040733766_1757407972803_3.dat\n",
            "-rw-r--r--    1 1001     1001        95812 Sep 09 08:52 FTPUL_867380040733766_1757407972803_4.dat\n",
            "-rw-r--r--    1 1001     1001        95812 Sep 09 08:52 FTPUL_867380040733766_1757407972803_8.dat\n",
            "-rw-r--r--    1 1001     1001            0 Sep 09 08:52 FTPUL_867380040733766_1757407972803_9.dat\n",
            "-rw-r--r--    1 1001     1001            0 Sep 09 08:52 FTPUL_867380040733766_1757407972804_1.dat\n",
            "-rw-r--r--    1 1001     1001        93116 Sep 09 08:52 FTPUL_867380040733766_1757407972804_12.dat\n",
            "-rw-r--r--    1 1001     1001        82332 Sep 09 08:52 FTPUL_867380040733766_1757407972804_16.dat\n",
            "-rw-r--r--    1 1001     1001        93116 Sep 09 08:52 FTPUL_867380040733766_1757407972804_17.dat\n",
            "-rw-r--r--    1 1001     1001        95812 Sep 09 08:52 FTPUL_867380040733766_1757407972804_6.dat\n",
            "-rw-r--r--    1 1001     1001        93116 Sep 09 08:52 FTPUL_867380040733766_1757407972805_11.dat\n",
            "-rw-r--r--    1 1001     1001        91768 Sep 09 08:52 FTPUL_867380040733766_1757407972805_22.dat\n",
            "-rw-r--r--    1 1001     1001        95812 Sep 09 08:52 FTPUL_867380040733766_1757407972805_7.dat\n",
            "-rw-r--r--    1 1001     1001            0 Sep 09 08:52 FTPUL_867380040733766_1757407972806_15.dat\n",
            "-rw-r--r--    1 1001     1001        41892 Sep 09 08:52 FTPUL_867380040733766_1757407972806_18.dat\n",
            "-rw-r--r--    1 1001     1001        87724 Sep 09 08:52 FTPUL_867380040733766_1757407972806_20.dat\n",
            "-rw-r--r--    1 1001     1001            0 Sep 09 08:52 FTPUL_867380040733766_1757407972807_13.dat\n",
            "-rw-r--r--    1 1001     1001        93116 Sep 09 08:52 FTPUL_867380040733766_1757407972808_0.dat\n",
            "-rw-r--r--    1 1001     1001            0 Sep 09 08:52 FTPUL_867380040733766_1757407972808_19.dat\n",
            "-rw-r--r--    1 1001     1001        93116 Sep 09 08:52 FTPUL_867380040733766_1757407972808_5.dat\n",
            "-rw-r--r--    1 1001     1001            0 Sep 09 08:50 FTPUL_869826041445113_1757407833263_23.dat\n",
            "-rw-r--r--    1 1001     1001            0 Sep 09 08:50 FTPUL_869826041445113_1757407833267_20.dat\n",
            "-rw-r--r--    1 1001     1001            0 Sep 09 08:50 FTPUL_869826041445113_1757407833267_22.dat\n",
            "-rw-r--r--    1 1001     1001            0 Sep 09 08:50 FTPUL_869826041445113_1757407833267_6.dat\n",
            "-rw-r--r--    1 1001     1001            0 Sep 09 08:50 FTPUL_869826041445113_1757407833270_8.dat\n",
            "-rw-r--r--    1 1001     1001            0 Sep 09 08:50 FTPUL_869826041445113_1757407833271_4.dat\n",
            "-rw-r--r--    1 1001     1001            0 Sep 09 08:50 FTPUL_869826041445113_1757407833272_3.dat\n",
            "-rw-r--r--    1 1001     1001            0 Sep 09 08:50 FTPUL_869826041445113_1757407833272_9.dat\n",
            "-rw-r--r--    1 1001     1001            0 Sep 09 08:50 FTPUL_869826041445113_1757407833273_16.dat\n",
            "-rw-r--r--    1 1001     1001            0 Sep 09 08:50 FTPUL_869826041445113_1757407833273_18.dat\n",
            "-rw-r--r--    1 1001     1001            0 Sep 09 08:50 FTPUL_869826041445113_1757407833273_21.dat\n",
            "-rw-r--r--    1 1001     1001            0 Sep 09 08:50 FTPUL_869826041445113_1757407833273_24.dat\n",
            "-rw-r--r--    1 1001     1001            0 Sep 09 08:50 FTPUL_869826041445113_1757407833274_17.dat\n",
            "-rw-r--r--    1 1001     1001            0 Sep 09 08:50 FTPUL_869826041445113_1757407833275_15.dat\n",
            "-rw-r--r--    1 1001     1001            0 Sep 09 08:50 FTPUL_869826041445113_1757407833279_13.dat\n",
            "-rw-r--r--    1 1001     1001            0 Sep 09 08:50 FTPUL_869826041445113_1757407833282_1.dat\n",
            "-rw-r--r--    1 1001     1001            0 Sep 09 08:50 FTPUL_869826041445113_1757407833282_10.dat\n",
            "-rw-r--r--    1 1001     1001            0 Sep 09 08:50 FTPUL_869826041445113_1757407833282_12.dat\n",
            "-rw-r--r--    1 1001     1001            0 Sep 09 08:50 FTPUL_869826041445113_1757407833286_11.dat\n",
            "-rw-r--r--    1 1001     1001            0 Sep 09 08:50 FTPUL_869826041445113_1757407833287_5.dat\n",
            "-rw-r--r--    1 1001     1001            0 Sep 09 08:50 FTPUL_869826041445113_1757407833288_14.dat\n",
            "-rw-r--r--    1 1001     1001            0 Sep 09 08:50 FTPUL_869826041445113_1757407833290_7.dat\n",
            "-rw-r--r--    1 1001     1001            0 Sep 09 08:50 FTPUL_869826041445113_1757407833291_2.dat\n",
            "-rw-r--r--    1 1001     1001            0 Sep 09 08:50 FTPUL_869826041445113_1757407833293_19.dat\n",
            "-rw-r--r--    1 1001     1001            0 Sep 09 08:50 FTPUL_869826041445113_1757407833294_0.dat\n",
            "-rw-r--r--    1 1001     1001      2820120 Sep 09 08:51 FTPUL_869826041445113_1757407857718_0.dat\n",
            "-rw-r--r--    1 1001     1001      2342928 Sep 09 08:51 FTPUL_869826041445113_1757407857718_14.dat\n",
            "-rw-r--r--    1 1001     1001      1926396 Sep 09 08:51 FTPUL_869826041445113_1757407857719_10.dat\n",
            "-rw-r--r--    1 1001     1001      3507600 Sep 09 08:51 FTPUL_869826041445113_1757407857719_18.dat\n",
            "-rw-r--r--    1 1001     1001      2267440 Sep 09 08:51 FTPUL_869826041445113_1757407857719_21.dat\n",
            "-rw-r--r--    1 1001     1001       830472 Sep 09 08:51 FTPUL_869826041445113_1757407857719_3.dat\n",
            "-rw-r--r--    1 1001     1001      1770028 Sep 09 08:51 FTPUL_869826041445113_1757407857719_9.dat\n",
            "-rw-r--r--    1 1001     1001      1042108 Sep 09 08:51 FTPUL_869826041445113_1757407857720_12.dat\n",
            "-rw-r--r--    1 1001     1001      1294184 Sep 09 08:51 FTPUL_869826041445113_1757407857720_5.dat\n",
            "-rw-r--r--    1 1001     1001      2244524 Sep 09 08:51 FTPUL_869826041445113_1757407857721_19.dat\n",
            "-rw-r--r--    1 1001     1001      5285612 Sep 09 08:51 FTPUL_869826041445113_1757407857723_13.dat\n",
            "-rw-r--r--    1 1001     1001      2495252 Sep 09 08:51 FTPUL_869826041445113_1757407857723_16.dat\n",
            "-rw-r--r--    1 1001     1001       861476 Sep 09 08:51 FTPUL_869826041445113_1757407857723_17.dat\n",
            "-rw-r--r--    1 1001     1001       479992 Sep 09 08:51 FTPUL_869826041445113_1757407857724_2.dat\n",
            "-rw-r--r--    1 1001     1001      3834848 Sep 09 08:51 FTPUL_869826041445113_1757407857724_20.dat\n",
            "-rw-r--r--    1 1001     1001       989536 Sep 09 08:51 FTPUL_869826041445113_1757407857724_8.dat\n",
            "-rw-r--r--    1 1001     1001            0 Sep 09 08:50 FTPUL_869826041445113_1757407857725_11.dat\n",
            "-rw-r--r--    1 1001     1001      2009232 Sep 09 08:51 FTPUL_869826041445113_1757407857725_4.dat\n",
            "-rw-r--r--    1 1001     1001       645796 Sep 09 08:51 FTPUL_869826041445113_1757407857725_6.dat\n",
            "-rw-r--r--    1 1001     1001      3800116 Sep 09 08:51 FTPUL_869826041445113_1757407857726_22.dat\n",
            "-rw-r--r--    1 1001     1001      3521080 Sep 09 08:51 FTPUL_869826041445113_1757407857728_1.dat\n",
            "-rw-r--r--    1 1001     1001      1821252 Sep 09 08:51 FTPUL_869826041445113_1757407857731_15.dat\n",
            "-rw-r--r--    1 1001     1001       857432 Sep 09 08:51 FTPUL_869826041445113_1757407857731_7.dat\n",
            "-rw-r--r--    1 1001     1001      2200040 Sep 09 08:51 FTPUL_869826041445113_1757407857732_23.dat\n",
            "-rw-r--r--    1 1001     1001      3256872 Sep 09 08:51 FTPUL_869826041445113_1757407857732_24.dat\n",
            "-rw-r--r--    1 1001     1001       295212 Sep 09 08:52 FTPUL_869826041445113_1757407967899_21.dat\n",
            "-rw-r--r--    1 1001     1001       384180 Sep 09 08:52 FTPUL_869826041445113_1757407967904_11.dat\n",
            "-rw-r--r--    1 1001     1001       331608 Sep 09 08:52 FTPUL_869826041445113_1757407967904_12.dat\n",
            "-rw-r--r--    1 1001     1001       392268 Sep 09 08:52 FTPUL_869826041445113_1757407967904_14.dat\n",
            "-rw-r--r--    1 1001     1001       331608 Sep 09 08:52 FTPUL_869826041445113_1757407967904_20.dat\n",
            "-rw-r--r--    1 1001     1001        26960 Sep 09 08:52 FTPUL_869826041445113_1757407967904_24.dat\n",
            "-rw-r--r--    1 1001     1001       331608 Sep 09 08:52 FTPUL_869826041445113_1757407967904_7.dat\n",
            "-rw-r--r--    1 1001     1001            0 Sep 09 08:52 FTPUL_869826041445113_1757407967905_0.dat\n",
            "-rw-r--r--    1 1001     1001      2175672 Sep 09 08:52 FTPUL_869826041445113_1757407967905_10.dat\n",
            "-rw-r--r--    1 1001     1001        31004 Sep 09 08:52 FTPUL_869826041445113_1757407967905_16.dat\n",
            "-rw-r--r--    1 1001     1001        40440 Sep 09 08:52 FTPUL_869826041445113_1757407967905_17.dat\n",
            "-rw-r--r--    1 1001     1001      1075704 Sep 09 08:52 FTPUL_869826041445113_1757407967905_22.dat\n",
            "-rw-r--r--    1 1001     1001            0 Sep 09 08:52 FTPUL_869826041445113_1757407967905_6.dat\n",
            "-rw-r--r--    1 1001     1001        55268 Sep 09 08:52 FTPUL_869826041445113_1757407967905_8.dat\n",
            "-rw-r--r--    1 1001     1001        55268 Sep 09 08:52 FTPUL_869826041445113_1757407967906_15.dat\n",
            "-rw-r--r--    1 1001     1001            0 Sep 09 08:52 FTPUL_869826041445113_1757407967906_18.dat\n",
            "-rw-r--r--    1 1001     1001        70200 Sep 09 08:52 FTPUL_869826041445113_1757407967907_3.dat\n",
            "-rw-r--r--    1 1001     1001        55268 Sep 09 08:52 FTPUL_869826041445113_1757407967907_4.dat\n",
            "-rw-r--r--    1 1001     1001        55268 Sep 09 08:52 FTPUL_869826041445113_1757407967909_19.dat\n",
            "-rw-r--r--    1 1001     1001            0 Sep 09 08:52 FTPUL_869826041445113_1757407967910_5.dat\n",
            "-rw-r--r--    1 1001     1001        31004 Sep 09 08:52 FTPUL_869826041445113_1757407967914_1.dat\n",
            "-rw-r--r--    1 1001     1001       257468 Sep 09 08:52 FTPUL_869826041445113_1757407967914_9.dat\n",
            "-rw-r--r--    1 1001     1001       434056 Sep 09 08:52 FTPUL_869826041445113_1757407967915_13.dat\n",
            "-rw-r--r--    1 1001     1001        40440 Sep 09 08:52 FTPUL_869826041445113_1757407967915_2.dat\n",
            "-rw-r--r--    1 1001     1001      2434488 Sep 09 08:52 FTPUL_869826041445113_1757407967915_23.dat\n",
            "-rw-r--r--    1 1001     1001       100000 Sep 09 08:50 _11474446\n",
            "-rw-r--r--    1 1001     1001       100000 Sep 09 08:50 _11477656\n",
            "-rw-r--r--    1 1001     1001       100000 Sep 09 08:51 _11478019\n",
            "-rw-r--r--    1 1001     1001       100000 Sep 09 08:51 _11478021\n",
            "-rw-r--r--    1 1001     1001       100000 Sep 09 08:50 _11478087\n",
            "-rw-r--r--    1 1001     1001       102400 Sep 09 08:50 upload.txt\n",
            "-rw-r--r--    1 1001     1001           28 Sep 09 08:51 upload_test_2302mc05_iitp.txt\n",
            "Uploaded\n",
            "Downloaded\n"
          ]
        }
      ]
    },
    {
      "cell_type": "code",
      "source": [
        "import dns.resolver\n",
        "\n",
        "def dns_lookup():\n",
        "    try:\n",
        "        d = \"example.com\"\n",
        "\n",
        "        print(\"A Records:\")\n",
        "        for r in dns.resolver.resolve(d, \"A\"):\n",
        "            print(r)\n",
        "\n",
        "        print(\"\\nMX Records:\")\n",
        "        for r in dns.resolver.resolve(d, \"MX\"):\n",
        "            print(r)\n",
        "\n",
        "        print(\"\\nCNAME Records:\")\n",
        "        try:\n",
        "            for r in dns.resolver.resolve(d, \"CNAME\"):\n",
        "                print(r)\n",
        "        except:\n",
        "            print(\"No CNAME found\")\n",
        "\n",
        "    except Exception as e:\n",
        "        print(\"Error:\", e)\n",
        "\n",
        "dns_lookup()\n"
      ],
      "metadata": {
        "colab": {
          "base_uri": "https://localhost:8080/"
        },
        "id": "esCxChYrrb7K",
        "outputId": "5c3ee683-6b5d-4ba7-8a3a-e444d055df2b"
      },
      "execution_count": 18,
      "outputs": [
        {
          "output_type": "stream",
          "name": "stdout",
          "text": [
            "A Records:\n",
            "23.192.228.80\n",
            "23.192.228.84\n",
            "23.215.0.136\n",
            "23.215.0.138\n",
            "23.220.75.232\n",
            "23.220.75.245\n",
            "\n",
            "MX Records:\n",
            "0 .\n",
            "\n",
            "CNAME Records:\n",
            "No CNAME found\n"
          ]
        }
      ]
    }
  ]
}